{
  "nbformat": 4,
  "nbformat_minor": 0,
  "metadata": {
    "colab": {
      "name": "chatbot_cornellDB.ipynb",
      "provenance": [],
      "collapsed_sections": [],
      "mount_file_id": "1BPx1mVRf9c4vH_kI1evFru254g5hm0Lr",
      "authorship_tag": "ABX9TyNjUQ2upfNklOg1vzpQviay",
      "include_colab_link": true
    },
    "kernelspec": {
      "name": "python3",
      "display_name": "Python 3"
    }
  },
  "cells": [
    {
      "cell_type": "markdown",
      "metadata": {
        "id": "view-in-github",
        "colab_type": "text"
      },
      "source": [
        "<a href=\"https://colab.research.google.com/github/agent515/chatbot_Cornell_Dialogue_Dataset/blob/master/chatbot_cornellDB.ipynb\" target=\"_parent\"><img src=\"https://colab.research.google.com/assets/colab-badge.svg\" alt=\"Open In Colab\"/></a>"
      ]
    },
    {
      "cell_type": "code",
      "metadata": {
        "colab": {
          "base_uri": "https://localhost:8080/"
        },
        "id": "YZkIrwRG15OI",
        "outputId": "2ab240d3-1ca9-4aea-fa9b-f8f0a1e33319"
      },
      "source": [
        "from google.colab import drive\n",
        "drive.mount('/content/gdrive')"
      ],
      "execution_count": 1,
      "outputs": [
        {
          "output_type": "stream",
          "text": [
            "Mounted at /content/gdrive\n"
          ],
          "name": "stdout"
        }
      ]
    },
    {
      "cell_type": "code",
      "metadata": {
        "id": "X3eFIgbWZR7A"
      },
      "source": [
        "import pandas as pd\n",
        "import numpy as np"
      ],
      "execution_count": 2,
      "outputs": []
    },
    {
      "cell_type": "code",
      "metadata": {
        "colab": {
          "base_uri": "https://localhost:8080/",
          "height": 52
        },
        "id": "qxM09__5f92u",
        "outputId": "4ae35fcf-7b7f-45aa-8d11-43b20e0a3457"
      },
      "source": [
        "dialogues = {}\n",
        "\n",
        "lines = open('/content/gdrive/My Drive/ML Notebooks/data/cornell_dialogue_dataset/movie_lines.txt', encoding='utf-8',errors='ignore').read().split('\\n')\n",
        "for line in lines:\n",
        "  temp_line = line.split(' +++$+++ ')\n",
        "  dialogues[temp_line[0]] = temp_line[-1]\n",
        "print(len(dialogues))\n",
        "\n",
        "dialogues['L194']"
      ],
      "execution_count": 3,
      "outputs": [
        {
          "output_type": "stream",
          "text": [
            "304714\n"
          ],
          "name": "stdout"
        },
        {
          "output_type": "execute_result",
          "data": {
            "application/vnd.google.colaboratory.intrinsic+json": {
              "type": "string"
            },
            "text/plain": [
              "'Can we make this quick?  Roxanne Korrine and Andrew Barrett are having an incredibly horrendous public break- up on the quad.  Again.'"
            ]
          },
          "metadata": {
            "tags": []
          },
          "execution_count": 3
        }
      ]
    },
    {
      "cell_type": "code",
      "metadata": {
        "colab": {
          "base_uri": "https://localhost:8080/"
        },
        "id": "7PL73jnij2XO",
        "outputId": "7374fa50-7f33-4f7e-ae81-4be4d78c8538"
      },
      "source": [
        "conversations = []\n",
        "\n",
        "converses = open('/content/gdrive/My Drive/ML Notebooks/data/cornell_dialogue_dataset/movie_conversations.txt', encoding='utf-8', errors='ignore').read().split('\\n')\n",
        "for converse in converses:\n",
        "  temp_line = converse.split(' +++$+++ ')\n",
        "  conversations.append(temp_line[-1][1:-1].replace(\"'\", \" \").replace(\",\",\"\").split())\n",
        "print(len(conversations))\n",
        "conversations[0]"
      ],
      "execution_count": 4,
      "outputs": [
        {
          "output_type": "stream",
          "text": [
            "83098\n"
          ],
          "name": "stdout"
        },
        {
          "output_type": "execute_result",
          "data": {
            "text/plain": [
              "['L194', 'L195', 'L196', 'L197']"
            ]
          },
          "metadata": {
            "tags": []
          },
          "execution_count": 4
        }
      ]
    },
    {
      "cell_type": "code",
      "metadata": {
        "id": "M_kiai3nqHPT"
      },
      "source": [
        "import re\n",
        "def clean_text(txt):\n",
        "    txt = txt.lower()\n",
        "    txt = re.sub(r\"i'm\", \"i am\", txt)\n",
        "    txt = re.sub(r\"he's\", \"he is\", txt)\n",
        "    txt = re.sub(r\"she's\", \"she is\", txt)\n",
        "    txt = re.sub(r\"that's\", \"that is\", txt)\n",
        "    txt = re.sub(r\"what's\", \"what is\", txt)\n",
        "    txt = re.sub(r\"where's\", \"where is\", txt)\n",
        "    txt = re.sub(r\"'bout\", \"about\", txt)\n",
        "    txt = re.sub(r\" ----\", \".\", txt)\n",
        "    txt = re.sub(r\" ---\", \".\", txt)\n",
        "    txt = re.sub(r\" --\", \".\", txt)\n",
        "    # txt = re.sub(r\"...\", \".\", txt)\n",
        "    txt = re.sub(r\"\\'ll\", \" will\", txt)\n",
        "    txt = re.sub(r\"\\'ve\", \" have\", txt)\n",
        "    txt = re.sub(r\"\\'re\", \" are\", txt)\n",
        "    txt = re.sub(r\"\\'d\", \" would\", txt)\n",
        "    txt = re.sub(r\"won't\", \"will not\", txt)\n",
        "    txt = re.sub(r\"can't\", \"can not\", txt)\n",
        "    # txt = re.sub(r\"[^\\w\\s]\", \"\", txt)\n",
        "    return txt"
      ],
      "execution_count": 5,
      "outputs": []
    },
    {
      "cell_type": "code",
      "metadata": {
        "colab": {
          "base_uri": "https://localhost:8080/"
        },
        "id": "GrbdUKiFlde0",
        "outputId": "b63ed5ce-b222-4845-8307-7fa230f5ac88"
      },
      "source": [
        "# Accept questions and answers with maxlen of 100 chars\n",
        "maxlen = 25\n",
        "\n",
        "questions = []\n",
        "answers = []\n",
        "\n",
        "for i in range(len(conversations)):\n",
        "  for j in range(len(conversations[i])-1):\n",
        "    if len(dialogues[conversations[i][j]]) > maxlen or len(dialogues[conversations[i][j+1]]) > maxlen:\n",
        "      continue\n",
        "    questions.append(clean_text(dialogues[conversations[i][j]]))\n",
        "    answers.append(clean_text(dialogues[conversations[i][j+1]]))\n",
        "\n",
        "print(len(questions), len(answers))\n",
        "print(questions[:5])\n",
        "print(answers[:5])"
      ],
      "execution_count": 6,
      "outputs": [
        {
          "output_type": "stream",
          "text": [
            "32042 32042\n",
            "['there.', 'have fun tonight?', 'what good stuff?', 'wow', 'she okay?']\n",
            "['where?', 'tons', 'the \"real you\".', \"let's go.\", 'i hope so.']\n"
          ],
          "name": "stdout"
        }
      ]
    },
    {
      "cell_type": "markdown",
      "metadata": {
        "id": "rSPUlzUxse6J"
      },
      "source": [
        "# Creating a Vocabulary"
      ]
    },
    {
      "cell_type": "code",
      "metadata": {
        "colab": {
          "base_uri": "https://localhost:8080/"
        },
        "id": "qayzfWpltsFi",
        "outputId": "43ae135a-22c9-4a63-8928-cc1e299a8c7e"
      },
      "source": [
        "import nltk\n",
        "nltk.download('punkt')"
      ],
      "execution_count": 7,
      "outputs": [
        {
          "output_type": "stream",
          "text": [
            "[nltk_data] Downloading package punkt to /root/nltk_data...\n",
            "[nltk_data]   Unzipping tokenizers/punkt.zip.\n"
          ],
          "name": "stdout"
        },
        {
          "output_type": "execute_result",
          "data": {
            "text/plain": [
              "True"
            ]
          },
          "metadata": {
            "tags": []
          },
          "execution_count": 7
        }
      ]
    },
    {
      "cell_type": "code",
      "metadata": {
        "id": "ux4b-8qliBPs"
      },
      "source": [
        "count = {}\n",
        "\n",
        "for i in range(len(questions)):\n",
        "  words = nltk.word_tokenize(questions[i])\n",
        "  for word in words:\n",
        "    if word not in count:\n",
        "      count[word] = 1\n",
        "    else:\n",
        "      count[word] += 1\n",
        "\n",
        "for i in range(len(answers)):\n",
        "  words = nltk.word_tokenize(answers[i])\n",
        "  for word in words:\n",
        "    if word not in count:\n",
        "      count[word] = 1\n",
        "    else:\n",
        "      count[word] += 1"
      ],
      "execution_count": 8,
      "outputs": []
    },
    {
      "cell_type": "code",
      "metadata": {
        "colab": {
          "base_uri": "https://localhost:8080/"
        },
        "id": "pdmCQiTUobIJ",
        "outputId": "4e20d463-8d2e-4b17-b1b7-3c6c25f79225"
      },
      "source": [
        "vocab = set()\n",
        "thres = 5\n",
        "\n",
        "for k, v in count.items():\n",
        "  if v < 5: continue\n",
        "  vocab.add(k)\n",
        "\n",
        "# words = nltk.word_tokenize(answers[-1])\n",
        "# vocab.update(set(words))\n",
        "\n",
        "print(len(vocab))\n",
        "print(vocab)"
      ],
      "execution_count": 9,
      "outputs": [
        {
          "output_type": "stream",
          "text": [
            "2329\n",
            "{'believe', 'hmmm', 'seat', 'you-', 'kirsty', 'kathy', 'share', 'television', 'wearing', 'temper', 'possible', 'shoe', 'report', 'wheel', 'lookin', 'pull', 'lot', 'airport', 'suicide', 'weekend', 'calls', 'soda', 'sun', 'president', 'men', 'town', 'blind', 'rough', 'kat', 'boy', '2', 'tits', 'yesterday', 'promised', 'boring', 'quite', 'jimmy', 'certain', 'down', 'hurting', 'elaine', 'chair', 'started', 'blank', 'someday', 'miles', 'test', 'ni', 'five', 'opera', 'ahh', 'aye', 'sport', 'yourself', 'closet', 'doing', 'tons', 'go', 'doc', 'higher', 'wayne', 'point', 'type', 'half', 'tradition', 'shooting', 'upstairs', 'book', 'soho', 'est', 'lips', 'hi', 'shoes', 'steve', 'careful', 'admiral', 'bridge', 'china', 'did', 'shot', 'stay', 'vietnam', 'story', 'scar', 'prom', 'hiya', 'exactly', 'baker', 'crash', 'perhaps', 'mmmm', 'suzette', 'bill', 'boots', 'hmmmm', 'safety', 'people', 'gave', 'has', 'shoot', 'tricked', 'kit', 'bless', 'nam', 'break', 'cuz', 'met', 'risk', 'state', 'neither', 'perfect', 'move', 'dime', 'brought', 'mitch', 'frankie', 'power', 'sire', 'phil', 'doe', 'not', 'lester', 'dieter', 'driving', 'violet', 'staring', 'col', 'sam', 'milk', 'read', 'twenty-eight', 'holding', 'double', 'thinking', 'car', 'tested', 'danny', 'smile', 'takin', 'brave', 'hurt', '...', 'cole', 'sake', 'carol', 'he', 'jacob', 'board', 'joey', 'secrets', 'kick', 'else', 'singer', 'mikey', 'orange', 'heather', 'pink', 'norm', 'ii', 'pony', 'promise', 'foot', 'fuel', 'money', 'before', 'suppose', 'jack', 'coffee', 'might', 'bravo', 'great', 'screwed', 'cigarettes', 'took', \"'cause\", 'cover', 'nothing', 'speed', 'smell', 'course', 'larry', 'trunk', 'nuts', 'invited', 'la', 'house', '500', 'lloyd', 'song', 'decision', 'murdered', 'after', 'yeh', 'sometime', 'bleeding', 'stake', 'somewhere', 'd', 'line', 'gut', 'i-', 'depends', 'gruber', 'at', 'greatest', 'simone', 'title', 'days', 'william', 'learn', 'solid', 'could', 'making', 'yo', 'beck', 'none', 'bro', 'happens', 'goddamn', 'tickets', \"m'hm\", 'affirmative', 'romeo', 'position', 'kubelik', 'ideas', 'alive', 'mention', 'david', 'brown', 'face', ':', 'hmm', 'sweet', 'had', 'scream', 'fuck', 'on', 'paid', 'called', 'arlo', 'worse', 'bite', 'naturally', 'wondering', 'fucker', 'correct', 'bus', 'ripley', 'surprise', 'happening', 'adam', 'shhhh', 'guest', 'picture', 'jesus', 'escape', 'positive', 'just', 'cry', 'handle', 'hall', 'honey', 'staying', 'sergeant', 'tape', 'john', 'friday', 'same', 'hoto', 'johnny', 'beth', 'flower', 'appreciate', 'actually', 'proud', 'pour', 'major', 'charlotte', 'travis', 'ryan', 'excellent', 'joel', 'send', 'lower', 'tim', 'mmmmm', 'robert', 'uhh', 'lawson', 'motel', 'remember', 'bird', 'graham', 'bishop', 'details', 'likes', 'vote', 'goin', 'sister', 'match', 'does', 'bit', 'eggs', 'baxter', 'evening', 'joe', 'dying', 'grant', 'game', 'college', 'rachel', 'last', 'jake', 'main', 'kane', 'lydia', 'gross', 'huh', 'also', 'raise', 'busted', 'beautiful', 'francesca', 'andy', 'behind', 'compliment', 'senator', 'fbi', 'aubrey', 'warsaw', 'slept', 'green', 'lay', 'sooner', 'jerome', 'fellow', 'sarah', 'indeed', 'pimp', 'yessir', 'mexico', 'free', 'lawyer', 'good', 'sleeping', 'unfair', 'monica', 'usual', 'code', 'holiness', 'awake', 'won', 'jawohl', 'postal', 'know', 'braces', 'straight', 'raymond', 'marty', 'france', 'weird', 'hates', 'jonah', 'gaston', 'pardon', 'mrs', 'chet', 'fun', 'nowhere', 'parry', 'charming', 'whatever', 'chick', 'vivian', 'peace', 'luke', 'except', '--', 'night', 'program', 'babe', 'though', 'heart', 'finger', 'devil', 'doug', 'secret', 'henry', 'brothers', 'wha', 'soft', 'favorite', 'carter', 'fell', 'gus', 'guy', 'um', 'gets', 'im', 'aces', 'born', 'goodbye', 'sulu', '20', 'thirty-five', 'keep', 'enjoy', 'they', 'shy', 'since', 'buddy', 'evil', 'myers', 'hot', 'wash', 'well', 'let', 'headache', 'hand', 'debbie', 'fred', 'giving', 'changed', 'scene', 'clothing', 'general', 'west', 'allison', 'instance', 'call', 'vodka', 'tomorrow', 'everywhere', 'sue', 'sal', 'were', 'mister', 'hold', 'afternoon', 'marylin', 'gives', 'scary', 'leon', 'lee', 'highness', 'window', 'meat', 'onions', '$', 'monster', 'coming', 'history', 'surprised', 'francis', 'walt', 'bring', 'way', 'meant', 'accident', \"'bye\", 'lad', 'idiot', 'director', 'billy', 'kiss', 'find', 'kenny', 'finished', 'lift', 'ahead', 'true', 'age', 'up', 'enzo', \"'\", 'excuse', 'place', 'sharp', 'rest', 'lonely', 'ten', 'us', 'helping', 'wan', 'white', 'collect', 'oooh', 'grow', 'fantastic', 'sure', 'would', 'worry', 'cave', 'problems', 'chef', 'fletcher', 'jerk', 'calm', 'shut', 'listen', 'name', 'ready', 'negative', 'hate', 'heading', 'trees', 'nsa', 'quarter', 'mistake', 'twelve', 'proof', 'ice', 'stanley', 'together', 'thing', 'hill', 'detective', 'bullets', 'chris', 'quaid', 'normal', 'american', 'brother', 'dance', 'cars', 'cage', 'heavy', 'see', 'whose', 'suspect', 'hotel', 'breathing', \"o'clock\", 'kids', 'jam', 'working', 'rich', 'loan', 'robbery', 'swear', 'taken', 'bye', 'ray', 'dil', 'try', 'fact', 'headed', 'eleven', 'all', 'eddie', 'hm', 'buy', 'honor', 'herself', 'lady', 'city', \"'em\", 'mr.', 'goodnight', 'dreyfuss', 'common', 'donnie', 'objection', 'kind', 'dignan', 'work', 'haircut', 'thelma', 'million', 'home', 'tired', 'diego', 'wise', 'fight', 'kid', 'calvin', 'slowly', 'kisses', 'day', 'ride', 'crazy', 'grateful', 'california', 'sucks', 'sunday', 'teddy', 'head', 'seven', 'for', 'alonzo', 'private', 'shhh', 'works', 'nice', 'freezing', 'randy', 'aw', 'soap', 'my', 'actress', 'knows', 'clark', 'younger', 'sailing', 'popcorn', 'difference', 'lily', 'daughter', 'mark', 'desk', 'rocky', 'week', 'macready', 'hurts', 'lock', 'fourteen', 'madison', 'machine', 'size', 'loves', 'best', 'fear', 'fresh', 'sir', 'how', 'c', 'forty', 'side', 'defensive', 'donna', 'beaumont', 'bobby', 'bathroom', 'buff', 'thief', 'doors', 'gray', 'him', 'drop', 'scully', 'mulder', 'pocket', 'madame', 'accept', 'ballet', 'sky', 'waitress', ',', 'act', 'needed', 'cup', 'if', 'dogs', 'roger', 'sent', 'dirty', 'whoo', 'ate', 'karen', 'nickname', 'georgia', 'mission', 'mama', 'roy', 'richard', 'turning', 'ever', 'store', 'battle', 'blood', 'anna', 'buzz', 'locked', 'fish', 'absolutely', 'ext', 'keys', 'spare', 'mary', 'ladies', 'bloody', 'boys', 'was', 'angry', 'thought', 'pleasure', 'looked', 'meters', 'nancy', 'station', 'insurance', 'country', 'war', 'other', 'janet', 'clear', 'fletch', 'dude', 'daddy', 'b', 'knew', 'loud', 'strong', 'rats', 'stupid', 'makes', 'grady', 'yah', 'very', 'piece', 'guests', 'ship', 'presents', 's', 'mornin', 'their', 'scare', 'master', 'wow', 'bullet', 'bank', 'eyes', 'touch', 'hit', 'dangerous', 'yours', 'hunting', 'tommy', 'spot', 'later', 'agent', 'may', 'says', 'robbed', 'jabez', 'tonight', 'margie', 'spit', 'gordon', 'girlfriend', 'checking', 'sign', 'bud', 'jewish', 'loser', 'going', 'questions', 'broken', 'inside', 'grand', 'eric', 'right', 'climb', 'played', 'lots', 'pen', 'most', 'will', 'virginia', 'live', 'bag', 'queen', 'phoebe', 'north', 'shame', 'time', 'jamie', 'pirate', 'jealous', 'hat', 'ohh', 'diary', 'such', 'nervous', 'having', 'those', 'cooking', 'want', 'year', 'caitlin', 'slow', 'kay', 'she', 'seriously', 'lowell', 'christian', 'air', 'magic', 'moreover', 'eh', 'york', 'said', 'push', 'trap', 'joking', 'understood', 'lisette', 'high', 'only', 'order', 'moron', 'mess', 'susan', 'bet', 'bully', 'something', 'twombley', 'times', 'art', 'wonder', 'relax', 'cops', 'jill', 'still', 'mars', 'marcus', 'and', 'irena', 'decide', 'shelly', 'god', 'around', 'grace', 'young', 'but', 'comrade', 'even', 'o.k', 'dammit', 'hawk', 'quick', 'shall', 'hicks', 'bitch', 'paper', 'von', 'beast', 'sixty', 'no', 'molested', 'huntin', 'laugh', 'rub', 'over', 'buffy', 'artie', 'poor', 'lemon', 'worked', 'puff', 'zero', 'seemed', 'stand', 'clean', 'tree', 'vegas', 'majesty', 'heads', 'date', 'died', 'italian', 'love', 'doubt', 'doin', 'ho', 'america', 'scotty', 'female', 'charged', 'why', 'wife', 'jacket', 'cousin', 'team', 'animal', 'ellie', 'jackie', 'claudia', 'plate', 'birds', 'diane', 'ok', 'cynthia', 'hands', 'nose', 'arrest', 'darling', 'jim', 'suck', 'lord', 'bourbon', 'against', 'expensive', '<', 'by', \"'yes\", 'hungry', 'hans', 'f', 'illegal', 'small', 'heck', 'trying', 'metal', 'your', 'am', 'rust', 'bull', 'catch', 'stomach', 'sell', 'smart', 'telephone', 'hair', 'woody', 'yawp', 'cant', 'needs', 'grail', 'shape', 'doctor', 'thousand', 'murder', 'yep', 'moon', 'pearl', 'four', 'sounds', 'take', 'ai', 'hack', 'novel', 'start', 'beg', 'missed', 'o', 'candy', 'sad', 'bleed', 'often', 'kiddin', 'wish', 'movie', 'jody', 'single', 'big', 'while', 'twice', 'shitty', 'join', 'light', 'cecile', 'alexander', 'nigger', 'boat', 'scotch', 'moving', 'first', 'madam', 'curious', 'figure', 'hunt', 'admire', 'ted', 'pal', 'interesting', 'dead', 'named', 'helen', 'an', 'party', 'fuckin', 'plenty', 'miracle', 'expecting', 'third', 'do', 'kramer', 'closing', 'both', 'summer', 'proceed', 'thirty', 'warren', 'idea', 'busy', 'minute', 'james', 'grandfather', 'die', 'advice', 'loretta', 'lampert', 'forgive', 'color', 'breaker', 'priest', 'pool', 'star', 'darrell', 'job', 'partner', 'son', 'margaret', 'brenda', 'sonny', 'many', 'peter', 'guns', 'refuse', 'we', 'ricky', 'yes', 'carvel', 'mate', 'jeff', 'forget', 'm', 'least', 'otis', 'that', 'singing', 'draw', 'victor', 'closer', 'professor', 'mean', 'punk', 'beats', 'wade', 'perry', 'is', 'eat', 'venkman', 'his', 'sheriff', 'fucking', 'lois', 'new', 'ghosts', 'typical', 'bath', 'smashed', 'appropriate', 'because', 'pretty', 'lights', 'mac', 'dreaming', 'chasing', 'easy', 'me', 'piss', 'meeting', 'king', 'killed', 'millaney', 'buying', 'mimi', 'bright', '?', 'malkovich', 'grave', 'kurtz', 'mommy', 'don', 'bugs', 'guys', 'help', 'monday', 'post', 'playing', 'six', 'xxxxxx', 'luck', 'legs', 'llewelyn', 'eve', 'ssh', 'treasure', 'running', 'feelin', 'rowan', 'evelyn', 'mason', 'shh', 'dunno', 'sense', 'this', 'sugar', 'bad', 'past', 'cheap', 'pass', 'innocent', 'claire', 'dreams', 'kidding', 'living', 'hiding', 'jump', 'mick', 'clothes', 'male', 'beige', 'marsh', 'fan', 'top', 'turn', 'a', 'losing', 'shop', 'bottle', 'pee', 'camera', 'jones', 'dawn', 'jail', '..', 'minutes', ')', 'benjamin', 'eye', 'there', 'dorothy', 'usually', 'pants', \"'s\", 'option', 'captain', 'writer', 'rid', 'engines', 'lying', 'every', 'totally', 'today', 'figured', 'dressed', 'owen', 'hours', 'paris', 'fat', 'afraid', 'dark', 'trip', 'therapy', 'suit', 'herr', 'finally', 'leland', 'a.m.', 'git', 'congratulations', 'then', 'yuh', 'full', 'wonderful', 'angel', 'pray', 'chicken', 'forty-five', 'as', 'dig', 'mad', 'these', 'incredible', 'army', 'rent', 'aware', 'orders', 'miss', 'ed', 'river', \"'you\", 'done', 'seventy-five', 'snap', 'cigarette', 'kinda', 'everything', 'page', 'broke', 'offer', 'the', 'sit', 'hildy', 'chest', 'bomb', 'lie', 'warrant', 'groovy', 'ryuji', 'soldier', 'int', 'shopping', 'ben', 'own', 'wine', 'terry', 'earth', 'mystery', 'feet', 'library', 'tent', 'dodge', 'deputy', 'goes', 'howard', 'taste', 'de', 'rush', 'close', 'stole', 'rice', 'karl', 'ah', 'horses', 'cents', 'da', 'cancer', 'nix', 'command', 'words', 'edward', 'happy', 'keith', 'continued', 'means', 'h', 'plan', 'rabbit', 'comin', 'pleased', 'saying', 'harvard', 'ellen', 'fishing', 'gentlemen', 'uncle', 'boone', 'lost', 'away', 'kent', 'hon', 'gee', 'tried', 'data', 'tie', 'client', 'sophie', 'simple', 'death', 'sally', 'business', 'english', 'whole', 'disco', 'dropped', 'marry', 'whatcha', 'study', 'check', 'until', 'government', 'taught', 'weeks', 'tough', 'can', 'tell', 'dog', 'lives', 'mail', 'lombardo', 'red', 'amy', 'wake', 'than', 'active', 'salad', 'bed', 'mickey', 'law', '5', 'tapes', 'dorsia', 'family', 'cost', 'german', 'gosh', 'known', 'towel', 'doyle', 'bay', 'quickly', 'personally', 'change', 'children', 'wedding', 'asleep', 'french', 'laura', 'allergic', 'nicholas', 'partners', 'to', 'elizabeth', 'filthy', 'lose', 'service', 'edie', 'life', 'stacy', 'being', 'noise', 'you', 'peel', 'vincent', 'i', 'sod', 'are', 'awful', 'charles', 'admit', 'buck', 'almost', 'judy', 'nag', 'nick', 'goddamnit', 'cute', 'make', 'boss', 'guard', 'virgin', 'ann', 'worm', 'wrong', 'killer', 'alison', 'leaving', 'madeleine', 'christ', 'attacked', 'sidney', 'reason', 'language', 'uh-huh', 'tight', 'engaged', 'ours', 'morning', 'anyone', 'mmm', 'ta', 'oui', 'already', 'watch', 'sox', 'lieutenant', 'fast', 'drew', 'here', 'bang', 'kill', 'charlie', 'patience', 'telly', 'tea', 'vitelli', 'soze', 'different', 'pregnant', 'mind', 'yet', 'less', 'special', 'lead', 'hear', 'set', 'seen', 'weather', 'dry', 'matt', 'exit', 'eighty', 'liked', 'committee', 'everybody', 'ian', 'horse', 'tripp', 'should', 'quit', \"m'sieu\", 'gun', 'safe', 'wait', 'in', 'cash', 'greetings', 'noticed', 'another', 'street', 'del', \"n't\", 'outside', 'pop', 'policy', 'letter', 'worried', 'toby', 'flynn', 'impossible', 'driver', 'interested', 'anyway', 'smith', 'wants', 'fifteen', 'retired', 'thank', 'covered', 'joke', 'twenty', 'speck', 'worth', 'vada', 'magnificent', 'case', 'mm-hm', 'jesse', 'recognize', 'its', 'ridiculous', 'older', 'throw', 'sweetheart', 'good-bye', 'treat', 'runs', 'till', 'be', 'struck', 'dollars', 'drag', 'plus', 'again', 'feels', 'alice', 'serious', 'blow', 'fucked', 'telling', 'dinner', 'anything', 'player', 'folks', 'joseph', 'nathan', 'silly', 'music', 'choice', 'stuff', '17', 'deserve', 'terrible', 'saved', 'under', 'eating', 'ill', 'birthday', 'certainly', 'ace', 'completely', 'donut', 'cell', 'muffin', 'screw', 'punished', 'bucks', 'ich', 'ouch', 'patrick', 'tom', 'few', 'her', 'news', 'prison', 'daniel', 'speaking', \"ma'am\", 'i.', 'teeth', 'bags', 'come', 'walker', 'dakota', 'ass', 'foley', 'gift', 'use', 'answer', 'k', 'bodies', 'spider', 'list', 'knock', 'dies', 'frederick', 'er', 'group', 'upset', 'using', 'creasy', 'class', 'silence', 'flight', 'get', 'loose', 'dream', 'football', 'important', 'drink', 'armed', 'condition', 'moment', 'drunk', 'shower', 'okay', 'reading', 'happened', 'mrs.', 'from', 'fake', 'yup', 'winner', 'bedroom', 'open', 'ring', 'girls', 'lime', 'nope', 'iris', 'bother', 'ernie', 'explain', 'quiet', 'u', 'aunt', 'waste', 'sorry', 'wolf', \"d'ya\", 'price', 'acting', 'na', 'felt', 'rio', 'tyler', 'back', 'drinking', 'cuba', 'number', 'sleep', 'asking', 'walking', 'justin', 'remembers', 'hurry', 'truth', 'whom', 'rex', 'rock', 'terrific', 'where', 'percent', 'bingo', 'tracy', 'out', 'video', 'ya', 'hudson', 'dean', 'smells', 'ocean', 'glasses', 'crane', 'ball', 'particularly', 'anybody', 'gig', 'lisa', 'looks', 'hardly', 'diz', 'damn', 'early', 'swell', 'pay', 'louder', 'dave', 'seconds', 'three', 'it', 'door', 'told', 'lt.', 'heh', 'van', 'cards', 'dr.', 'voice', 'meaning', 'what', 'anytime', 'threw', 'fabulous', 'word', 'lena', 'hell', 'trouble', 'leave', 'martini', 'july', 'norman', 'elliot', 'next', 'rather', 'yards', 'lover', 'glad', 'willie', 'key', 'others', 'now', 'gas', 'food', 'ulcers', 'part', 'parker', 'roll', 'alan', 'protect', 'boyfriend', 'hung', 'mm-mm', 'reach', 'thirteen', 'originals', 'ticket', 'leads', 'mood', 'or', 'arthur', 'collateral', 'ask', 'understand', 'mookie', 'with', 'cat', '/u', \"'night\", 'stuck', 'agree', 'supposed', 'taxi', 'barry', 'cream', 'stopped', 'adorable', 'begin', 'black', 'charge', 'hero', 'world', 'mon', 'glass', 'waiting', 'nicky', 'dad', 'helluva', 'road', 'odds', 'skipper', 'youre', 'kip', 'found', 'sweetie', 'forgot', 'sex', 'tony', 'holy', 'gibarian', 'colonel', 'lunch', 'everyone', 'clarence', 'mom', 'favor', 'tank', 'sean', 'seeya', 'michael', 'kitchen', 'watching', 'club', 'record', 'police', 'sound', 'warned', 'wet', 'ginger', 'cut', 'guess', 'too', 'apple', 'sandy', 'granma', 'caesar', 'epps', 'ohhh', 'fix', 'julie', 'kiddo', 'land', 'training', 'smoke', 'moved', 'computer', 'monsieur', 'prefer', 'put', 'save', 'rape', 'shift', 'witness', 'step', 'gittes', 'hauser', 'particular', 'welcome', 'asshole', 'more', 'jean', 'names', 'always', 'fixed', 'actor', 'coat', 'strange', 'breasts', 'plans', 'junior', 'nine', 'defuse', 'gay', 'school', 'chief', 'beer', 'experience', 'duck', 'fool', 'stolen', 'seems', 'long', 'forever', 'holly', \"c'mere\", 'level', 'hope', 'wrote', 'suggested', 'nightmare', 'nicely', 'lingerie', 'reilly', 'cause', 'commander', 'present', 'mine', 'so', 'fifty', 'prove', 'alright', 'maxine', 'matter', 'anywhere', 'seeing', 'goddammit', 'give', 'wendy', 'george', 'shari', 'heaven', 'garbage', 'walter', 'alone', 'square', 'hour', 'martin', 'sees', 'harm', 'allow', 'follow', 'short', 'shhhhh', 'real', 'ago', 'linda', 'babies', 'ran', 'ears', 'hard', 'um-hum', 'austin', 'mr', 'downstairs', 'little', 'mike', 'nicole', 'thursday', 'box', 'julia', 'apartment', 'comes', 'truck', 'fired', 'chauncey', 'information', 'elvis', 'husband', \"''\", 'feel', ';', 'toy', 'killing', 'either', 'pain', 'somethin', 'sheila', 'shit', 'better', 'soon', 'murphy', 'memory', \"y'know\", 'each', 'britain', 'pigeon', 'excited', 'anthony', 'second', 'johnson', 'trust', 'security', 'rope', 'built', 'bruce', 'himself', 'when', 'walked', 'kate', 'junk', 'barton', 'play', 'married', 'which', 'heard', 'gary', 'following', 'smiling', 'hush', 'dress', 'have', 'games', 'gold', 'hey', 'bon', 'crying', 'really', 'toss', 'been', 'woman', 'louise', 'deep', 'cop', 'tower', 'child', 'g', 'thomas', 'drugs', 'bond', 'carl', 'jennifer', 'eight', 'garage', 'insist', 'imagine', 'boyd', 'toto', 'emily', 'dan', 'nurse', 'han', 'paul', 'caught', 'speech', 'shirt', 'lucy', 'fries', 'hang', 'adele', 'signed', 'aha', 'say', 'taylor', 'albert', 'agnes', ']', 'officer', 'parents', '[', 'ford', 'map', 'jane', 'lem', 'piano', 'some', 'chance', 'front', 'baron', 'ma', 'argument', 'body', 'dyle', 'oz', 'sid', 'bat', 'things', 'happen', 'fail', 'uhura', \"d'amour\", 'naw', 'definitely', 'tip', 'necessary', 'describe', 'i.d', 'anymore', 'far', 'chicago', 'divorced', 'old', 'need', 'stop', 'mix', 'shaking', 'hello', 'company', 'disease', 'notice', 'fly', 'who', 'cook', 'friend', 'our', 'nothin', 'laurie', 'outta', 'jobs', 'kathryn', 'press', 'bought', 'spring', 'maybe', 'girl', 'gone', 'passport', 'sleepy', 'crap', 'bones', 'alex', 'arm', 'women', 'tuesday', 'twenty-five', \"'m\", 'scott', 'al', 'josh', 'movies', 'uh', 'lauren', 'human', 'man', 'rose', 'pictures', 'horny', '-', 'mph', 'fit', 'overruled', 'shark', 'pack', 'question', 'uh-uh', 'lovely', 'expect', 'standing', 'jumped', 'keeps', 'loaded', 'lou', 'of', 'spock', 'lenny', 'sail', 'rob', 'electra', 'czech', 'probably', 'month', '!', 'loved', 'feeling', 'bar', 'fine', 'liar', 'think', 'got', 'coconuts', 'tunnel', 'father', 'one', 'lila', 'howdy', 'rick', 'whatta', 'cake', 'obvious', 'romantic', 'gear', 'washington', 'must', 'taking', 'pounds', 'enough', 'maya', 'talked', 'beach', 'office', 'floor', 'sing', 'rmph', 'run', 'baby', 'venice', 'craig', 'merrick', 'walk', 'brady', 'license', 'falling', 'carry', 'y', 'jew', 'bastard', 'victoria', 'erik', 'agreed', 'faith', 'what-', 'deal', 'lucky', 'whoa', 'beauty', 'quiche', 'goose', 'satisfied', 'without', 'leg', 'bullshit', 'myself', 'uh-oh', 'coach', 'honeymoon', 'stan', 'fault', 'books', '/i', 'two', 'ashamed', 'brynner', 'ammo', 'brain', 'passed', 'manage', 'missing', 'spirit', 'nature', 'thirsty', 'hide', 'joyce', 'into', 'betty', 'coke', 'left', 'meet', 'le', 'checked', 'sick', 'whats', 'goosed', 'look', 'cross', 'fair', 'smoking', 'breaking', 'pow', 'friends', 'them', '``', 'closed', 'round', 'detroit', 'dear', 'duty', 'leaves', 'screen', 'jazz', 'dare', 'hospital', 'harry', 'dollar', 'harlin', 'off', 'asked', 'annie', 'sitting', 'martins', 'phone', 'note', 'show', 'indy', 'bandit', 'any', 'blue', 'sometimes', 'radio', 'scared', 'ow', 'louis', 'quod', 'kelly', 'jerry', 'envy', 'speak', 'listening', 'beat', 'oh', 'lived', 'jeffrey', 'della', 'hundred', 'cool', 'frank', 'south', \"d'you\", 'pilot', 'once', 'harder', 'surely', 'terribly', 'swim', 'shields', 'calling', 'control', 'finish', 'wondered', 'nah', 'never', 'vince', 'block', 'monescu', 'dont', 'sammy', 'wisconsin', 'belong', 'livingston', 'thanks', 'steering', 'noooo', 'sold', 'owe', 'room', 'much', 'damnit', 'smiled', 'mostly', 'made', 'gim', 'wanted', 'several', 'ms.', 'honest', 'harris', 'cold', 'mother', 'person', '>', 'bob', 'ones', 'shadow', 'yeah', 'pig', 'talking', 'months', 'unbelievable', 'couple', 'care', 'lied', 'amazing', 'write', 'apologize', 'lame', 'wild', 'raping', 'ahhh', 'pro', 'gabe', 'dumb', 'brill', 'like', 'tv', 'please', 'behold', 'fire', 'mm', 'someone', 'rain', 'sort', 'gale', 'years', 'riding', 'tiny', 'water', 'somebody', 'about', 'brad', 'looking', 'saturday', 'came', 'remind', 'longer', 'heat', 'wear', 'seem', 'cotter', 'lobotomy', 'church', 'corner', 'getting', 'cares', 'mmmerrick', 'gettin', 'object', 'ha', 'fall', 'corey', 'saw', 'porno', 'hearing', 'along', 'cheers', 'problem', '.', 'frances', 'frightened', 'lyssa', 'switch', 'jersey', 'familiar', 'card', 'christmas', 'plane', 'cab', 'win', 'miller', 'dick', 'duff', 'gon', 'sailor', 'used', 'drive', 'starting', 'max', 'warm', 'patient', 'dancing', 'mouth', 'end', 'dickie', 'copy', 'erica', 'harold', 'faster', 'pete', \"c'mon\", 'talk', 'ok.', 'sixteen', 'personal', 'whiskey', 'pick', 'table', 'through', 'insane', 'nobody', 'funny', 'late', 'row', 'message', 'donald', 'count', 'booze', 'went'}\n"
          ],
          "name": "stdout"
        }
      ]
    },
    {
      "cell_type": "code",
      "metadata": {
        "id": "wN9DnNITpsKy"
      },
      "source": [
        "vocab_len = len(vocab) + 1"
      ],
      "execution_count": 10,
      "outputs": []
    },
    {
      "cell_type": "markdown",
      "metadata": {
        "id": "-KEFGo_SzXz2"
      },
      "source": [
        "# Padding & Vectorization"
      ]
    },
    {
      "cell_type": "code",
      "metadata": {
        "id": "BCJtHEb1zREj"
      },
      "source": [
        "from keras.preprocessing.sequence import pad_sequences\n",
        "from keras.preprocessing.text import Tokenizer"
      ],
      "execution_count": 11,
      "outputs": []
    },
    {
      "cell_type": "code",
      "metadata": {
        "id": "6akNNT9jzmAe"
      },
      "source": [
        "tokenizer = Tokenizer(filters=[])"
      ],
      "execution_count": 12,
      "outputs": []
    },
    {
      "cell_type": "code",
      "metadata": {
        "id": "AZ25Dc1LzvK2"
      },
      "source": [
        "tokenizer.fit_on_texts(vocab)"
      ],
      "execution_count": 13,
      "outputs": []
    },
    {
      "cell_type": "code",
      "metadata": {
        "id": "lHWPDCpfz6cq"
      },
      "source": [
        "tokenizer.word_index['OUT'] = vocab_len\n",
        "tokenizer.word_index['SOS'] = vocab_len + 1\n",
        "tokenizer.word_index['EOS'] = vocab_len + 2\n",
        "\n",
        "tokenizer.index_word[vocab_len] = 'OUT'\n",
        "tokenizer.index_word[vocab_len + 1] = 'SOS'\n",
        "tokenizer.index_word[vocab_len + 2] = 'EOS'\n",
        "\n",
        "vocab_len += 3"
      ],
      "execution_count": 14,
      "outputs": []
    },
    {
      "cell_type": "code",
      "metadata": {
        "colab": {
          "base_uri": "https://localhost:8080/"
        },
        "id": "1a9gQkI-6SH-",
        "outputId": "c57de9a9-7c4e-4a43-febd-32433097a8ea"
      },
      "source": [
        "tokenizer.word_index"
      ],
      "execution_count": 15,
      "outputs": [
        {
          "output_type": "execute_result",
          "data": {
            "text/plain": [
              "{'believe': 1,\n",
              " 'hmmm': 2,\n",
              " 'seat': 3,\n",
              " 'you-': 4,\n",
              " 'kirsty': 5,\n",
              " 'kathy': 6,\n",
              " 'share': 7,\n",
              " 'television': 8,\n",
              " 'wearing': 9,\n",
              " 'temper': 10,\n",
              " 'possible': 11,\n",
              " 'shoe': 12,\n",
              " 'report': 13,\n",
              " 'wheel': 14,\n",
              " 'lookin': 15,\n",
              " 'pull': 16,\n",
              " 'lot': 17,\n",
              " 'airport': 18,\n",
              " 'suicide': 19,\n",
              " 'weekend': 20,\n",
              " 'calls': 21,\n",
              " 'soda': 22,\n",
              " 'sun': 23,\n",
              " 'president': 24,\n",
              " 'men': 25,\n",
              " 'town': 26,\n",
              " 'blind': 27,\n",
              " 'rough': 28,\n",
              " 'kat': 29,\n",
              " 'boy': 30,\n",
              " '2': 31,\n",
              " 'tits': 32,\n",
              " 'yesterday': 33,\n",
              " 'promised': 34,\n",
              " 'boring': 35,\n",
              " 'quite': 36,\n",
              " 'jimmy': 37,\n",
              " 'certain': 38,\n",
              " 'down': 39,\n",
              " 'hurting': 40,\n",
              " 'elaine': 41,\n",
              " 'chair': 42,\n",
              " 'started': 43,\n",
              " 'blank': 44,\n",
              " 'someday': 45,\n",
              " 'miles': 46,\n",
              " 'test': 47,\n",
              " 'ni': 48,\n",
              " 'five': 49,\n",
              " 'opera': 50,\n",
              " 'ahh': 51,\n",
              " 'aye': 52,\n",
              " 'sport': 53,\n",
              " 'yourself': 54,\n",
              " 'closet': 55,\n",
              " 'doing': 56,\n",
              " 'tons': 57,\n",
              " 'go': 58,\n",
              " 'doc': 59,\n",
              " 'higher': 60,\n",
              " 'wayne': 61,\n",
              " 'point': 62,\n",
              " 'type': 63,\n",
              " 'half': 64,\n",
              " 'tradition': 65,\n",
              " 'shooting': 66,\n",
              " 'upstairs': 67,\n",
              " 'book': 68,\n",
              " 'soho': 69,\n",
              " 'est': 70,\n",
              " 'lips': 71,\n",
              " 'hi': 72,\n",
              " 'shoes': 73,\n",
              " 'steve': 74,\n",
              " 'careful': 75,\n",
              " 'admiral': 76,\n",
              " 'bridge': 77,\n",
              " 'china': 78,\n",
              " 'did': 79,\n",
              " 'shot': 80,\n",
              " 'stay': 81,\n",
              " 'vietnam': 82,\n",
              " 'story': 83,\n",
              " 'scar': 84,\n",
              " 'prom': 85,\n",
              " 'hiya': 86,\n",
              " 'exactly': 87,\n",
              " 'baker': 88,\n",
              " 'crash': 89,\n",
              " 'perhaps': 90,\n",
              " 'mmmm': 91,\n",
              " 'suzette': 92,\n",
              " 'bill': 93,\n",
              " 'boots': 94,\n",
              " 'hmmmm': 95,\n",
              " 'safety': 96,\n",
              " 'people': 97,\n",
              " 'gave': 98,\n",
              " 'has': 99,\n",
              " 'shoot': 100,\n",
              " 'tricked': 101,\n",
              " 'kit': 102,\n",
              " 'bless': 103,\n",
              " 'nam': 104,\n",
              " 'break': 105,\n",
              " 'cuz': 106,\n",
              " 'met': 107,\n",
              " 'risk': 108,\n",
              " 'state': 109,\n",
              " 'neither': 110,\n",
              " 'perfect': 111,\n",
              " 'move': 112,\n",
              " 'dime': 113,\n",
              " 'brought': 114,\n",
              " 'mitch': 115,\n",
              " 'frankie': 116,\n",
              " 'power': 117,\n",
              " 'sire': 118,\n",
              " 'phil': 119,\n",
              " 'doe': 120,\n",
              " 'not': 121,\n",
              " 'lester': 122,\n",
              " 'dieter': 123,\n",
              " 'driving': 124,\n",
              " 'violet': 125,\n",
              " 'staring': 126,\n",
              " 'col': 127,\n",
              " 'sam': 128,\n",
              " 'milk': 129,\n",
              " 'read': 130,\n",
              " 'twenty-eight': 131,\n",
              " 'holding': 132,\n",
              " 'double': 133,\n",
              " 'thinking': 134,\n",
              " 'car': 135,\n",
              " 'tested': 136,\n",
              " 'danny': 137,\n",
              " 'smile': 138,\n",
              " 'takin': 139,\n",
              " 'brave': 140,\n",
              " 'hurt': 141,\n",
              " '...': 142,\n",
              " 'cole': 143,\n",
              " 'sake': 144,\n",
              " 'carol': 145,\n",
              " 'he': 146,\n",
              " 'jacob': 147,\n",
              " 'board': 148,\n",
              " 'joey': 149,\n",
              " 'secrets': 150,\n",
              " 'kick': 151,\n",
              " 'else': 152,\n",
              " 'singer': 153,\n",
              " 'mikey': 154,\n",
              " 'orange': 155,\n",
              " 'heather': 156,\n",
              " 'pink': 157,\n",
              " 'norm': 158,\n",
              " 'ii': 159,\n",
              " 'pony': 160,\n",
              " 'promise': 161,\n",
              " 'foot': 162,\n",
              " 'fuel': 163,\n",
              " 'money': 164,\n",
              " 'before': 165,\n",
              " 'suppose': 166,\n",
              " 'jack': 167,\n",
              " 'coffee': 168,\n",
              " 'might': 169,\n",
              " 'bravo': 170,\n",
              " 'great': 171,\n",
              " 'screwed': 172,\n",
              " 'cigarettes': 173,\n",
              " 'took': 174,\n",
              " \"'cause\": 175,\n",
              " 'cover': 176,\n",
              " 'nothing': 177,\n",
              " 'speed': 178,\n",
              " 'smell': 179,\n",
              " 'course': 180,\n",
              " 'larry': 181,\n",
              " 'trunk': 182,\n",
              " 'nuts': 183,\n",
              " 'invited': 184,\n",
              " 'la': 185,\n",
              " 'house': 186,\n",
              " '500': 187,\n",
              " 'lloyd': 188,\n",
              " 'song': 189,\n",
              " 'decision': 190,\n",
              " 'murdered': 191,\n",
              " 'after': 192,\n",
              " 'yeh': 193,\n",
              " 'sometime': 194,\n",
              " 'bleeding': 195,\n",
              " 'stake': 196,\n",
              " 'somewhere': 197,\n",
              " 'd': 198,\n",
              " 'line': 199,\n",
              " 'gut': 200,\n",
              " 'i-': 201,\n",
              " 'depends': 202,\n",
              " 'gruber': 203,\n",
              " 'at': 204,\n",
              " 'greatest': 205,\n",
              " 'simone': 206,\n",
              " 'title': 207,\n",
              " 'days': 208,\n",
              " 'william': 209,\n",
              " 'learn': 210,\n",
              " 'solid': 211,\n",
              " 'could': 212,\n",
              " 'making': 213,\n",
              " 'yo': 214,\n",
              " 'beck': 215,\n",
              " 'none': 216,\n",
              " 'bro': 217,\n",
              " 'happens': 218,\n",
              " 'goddamn': 219,\n",
              " 'tickets': 220,\n",
              " \"m'hm\": 221,\n",
              " 'affirmative': 222,\n",
              " 'romeo': 223,\n",
              " 'position': 224,\n",
              " 'kubelik': 225,\n",
              " 'ideas': 226,\n",
              " 'alive': 227,\n",
              " 'mention': 228,\n",
              " 'david': 229,\n",
              " 'brown': 230,\n",
              " 'face': 231,\n",
              " ':': 232,\n",
              " 'hmm': 233,\n",
              " 'sweet': 234,\n",
              " 'had': 235,\n",
              " 'scream': 236,\n",
              " 'fuck': 237,\n",
              " 'on': 238,\n",
              " 'paid': 239,\n",
              " 'called': 240,\n",
              " 'arlo': 241,\n",
              " 'worse': 242,\n",
              " 'bite': 243,\n",
              " 'naturally': 244,\n",
              " 'wondering': 245,\n",
              " 'fucker': 246,\n",
              " 'correct': 247,\n",
              " 'bus': 248,\n",
              " 'ripley': 249,\n",
              " 'surprise': 250,\n",
              " 'happening': 251,\n",
              " 'adam': 252,\n",
              " 'shhhh': 253,\n",
              " 'guest': 254,\n",
              " 'picture': 255,\n",
              " 'jesus': 256,\n",
              " 'escape': 257,\n",
              " 'positive': 258,\n",
              " 'just': 259,\n",
              " 'cry': 260,\n",
              " 'handle': 261,\n",
              " 'hall': 262,\n",
              " 'honey': 263,\n",
              " 'staying': 264,\n",
              " 'sergeant': 265,\n",
              " 'tape': 266,\n",
              " 'john': 267,\n",
              " 'friday': 268,\n",
              " 'same': 269,\n",
              " 'hoto': 270,\n",
              " 'johnny': 271,\n",
              " 'beth': 272,\n",
              " 'flower': 273,\n",
              " 'appreciate': 274,\n",
              " 'actually': 275,\n",
              " 'proud': 276,\n",
              " 'pour': 277,\n",
              " 'major': 278,\n",
              " 'charlotte': 279,\n",
              " 'travis': 280,\n",
              " 'ryan': 281,\n",
              " 'excellent': 282,\n",
              " 'joel': 283,\n",
              " 'send': 284,\n",
              " 'lower': 285,\n",
              " 'tim': 286,\n",
              " 'mmmmm': 287,\n",
              " 'robert': 288,\n",
              " 'uhh': 289,\n",
              " 'lawson': 290,\n",
              " 'motel': 291,\n",
              " 'remember': 292,\n",
              " 'bird': 293,\n",
              " 'graham': 294,\n",
              " 'bishop': 295,\n",
              " 'details': 296,\n",
              " 'likes': 297,\n",
              " 'vote': 298,\n",
              " 'goin': 299,\n",
              " 'sister': 300,\n",
              " 'match': 301,\n",
              " 'does': 302,\n",
              " 'bit': 303,\n",
              " 'eggs': 304,\n",
              " 'baxter': 305,\n",
              " 'evening': 306,\n",
              " 'joe': 307,\n",
              " 'dying': 308,\n",
              " 'grant': 309,\n",
              " 'game': 310,\n",
              " 'college': 311,\n",
              " 'rachel': 312,\n",
              " 'last': 313,\n",
              " 'jake': 314,\n",
              " 'main': 315,\n",
              " 'kane': 316,\n",
              " 'lydia': 317,\n",
              " 'gross': 318,\n",
              " 'huh': 319,\n",
              " 'also': 320,\n",
              " 'raise': 321,\n",
              " 'busted': 322,\n",
              " 'beautiful': 323,\n",
              " 'francesca': 324,\n",
              " 'andy': 325,\n",
              " 'behind': 326,\n",
              " 'compliment': 327,\n",
              " 'senator': 328,\n",
              " 'fbi': 329,\n",
              " 'aubrey': 330,\n",
              " 'warsaw': 331,\n",
              " 'slept': 332,\n",
              " 'green': 333,\n",
              " 'lay': 334,\n",
              " 'sooner': 335,\n",
              " 'jerome': 336,\n",
              " 'fellow': 337,\n",
              " 'sarah': 338,\n",
              " 'indeed': 339,\n",
              " 'pimp': 340,\n",
              " 'yessir': 341,\n",
              " 'mexico': 342,\n",
              " 'free': 343,\n",
              " 'lawyer': 344,\n",
              " 'good': 345,\n",
              " 'sleeping': 346,\n",
              " 'unfair': 347,\n",
              " 'monica': 348,\n",
              " 'usual': 349,\n",
              " 'code': 350,\n",
              " 'holiness': 351,\n",
              " 'awake': 352,\n",
              " 'won': 353,\n",
              " 'jawohl': 354,\n",
              " 'postal': 355,\n",
              " 'know': 356,\n",
              " 'braces': 357,\n",
              " 'straight': 358,\n",
              " 'raymond': 359,\n",
              " 'marty': 360,\n",
              " 'france': 361,\n",
              " 'weird': 362,\n",
              " 'hates': 363,\n",
              " 'jonah': 364,\n",
              " 'gaston': 365,\n",
              " 'pardon': 366,\n",
              " 'mrs': 367,\n",
              " 'chet': 368,\n",
              " 'fun': 369,\n",
              " 'nowhere': 370,\n",
              " 'parry': 371,\n",
              " 'charming': 372,\n",
              " 'whatever': 373,\n",
              " 'chick': 374,\n",
              " 'vivian': 375,\n",
              " 'peace': 376,\n",
              " 'luke': 377,\n",
              " 'except': 378,\n",
              " '--': 379,\n",
              " 'night': 380,\n",
              " 'program': 381,\n",
              " 'babe': 382,\n",
              " 'though': 383,\n",
              " 'heart': 384,\n",
              " 'finger': 385,\n",
              " 'devil': 386,\n",
              " 'doug': 387,\n",
              " 'secret': 388,\n",
              " 'henry': 389,\n",
              " 'brothers': 390,\n",
              " 'wha': 391,\n",
              " 'soft': 392,\n",
              " 'favorite': 393,\n",
              " 'carter': 394,\n",
              " 'fell': 395,\n",
              " 'gus': 396,\n",
              " 'guy': 397,\n",
              " 'um': 398,\n",
              " 'gets': 399,\n",
              " 'im': 400,\n",
              " 'aces': 401,\n",
              " 'born': 402,\n",
              " 'goodbye': 403,\n",
              " 'sulu': 404,\n",
              " '20': 405,\n",
              " 'thirty-five': 406,\n",
              " 'keep': 407,\n",
              " 'enjoy': 408,\n",
              " 'they': 409,\n",
              " 'shy': 410,\n",
              " 'since': 411,\n",
              " 'buddy': 412,\n",
              " 'evil': 413,\n",
              " 'myers': 414,\n",
              " 'hot': 415,\n",
              " 'wash': 416,\n",
              " 'well': 417,\n",
              " 'let': 418,\n",
              " 'headache': 419,\n",
              " 'hand': 420,\n",
              " 'debbie': 421,\n",
              " 'fred': 422,\n",
              " 'giving': 423,\n",
              " 'changed': 424,\n",
              " 'scene': 425,\n",
              " 'clothing': 426,\n",
              " 'general': 427,\n",
              " 'west': 428,\n",
              " 'allison': 429,\n",
              " 'instance': 430,\n",
              " 'call': 431,\n",
              " 'vodka': 432,\n",
              " 'tomorrow': 433,\n",
              " 'everywhere': 434,\n",
              " 'sue': 435,\n",
              " 'sal': 436,\n",
              " 'were': 437,\n",
              " 'mister': 438,\n",
              " 'hold': 439,\n",
              " 'afternoon': 440,\n",
              " 'marylin': 441,\n",
              " 'gives': 442,\n",
              " 'scary': 443,\n",
              " 'leon': 444,\n",
              " 'lee': 445,\n",
              " 'highness': 446,\n",
              " 'window': 447,\n",
              " 'meat': 448,\n",
              " 'onions': 449,\n",
              " '$': 450,\n",
              " 'monster': 451,\n",
              " 'coming': 452,\n",
              " 'history': 453,\n",
              " 'surprised': 454,\n",
              " 'francis': 455,\n",
              " 'walt': 456,\n",
              " 'bring': 457,\n",
              " 'way': 458,\n",
              " 'meant': 459,\n",
              " 'accident': 460,\n",
              " \"'bye\": 461,\n",
              " 'lad': 462,\n",
              " 'idiot': 463,\n",
              " 'director': 464,\n",
              " 'billy': 465,\n",
              " 'kiss': 466,\n",
              " 'find': 467,\n",
              " 'kenny': 468,\n",
              " 'finished': 469,\n",
              " 'lift': 470,\n",
              " 'ahead': 471,\n",
              " 'true': 472,\n",
              " 'age': 473,\n",
              " 'up': 474,\n",
              " 'enzo': 475,\n",
              " \"'\": 476,\n",
              " 'excuse': 477,\n",
              " 'place': 478,\n",
              " 'sharp': 479,\n",
              " 'rest': 480,\n",
              " 'lonely': 481,\n",
              " 'ten': 482,\n",
              " 'us': 483,\n",
              " 'helping': 484,\n",
              " 'wan': 485,\n",
              " 'white': 486,\n",
              " 'collect': 487,\n",
              " 'oooh': 488,\n",
              " 'grow': 489,\n",
              " 'fantastic': 490,\n",
              " 'sure': 491,\n",
              " 'would': 492,\n",
              " 'worry': 493,\n",
              " 'cave': 494,\n",
              " 'problems': 495,\n",
              " 'chef': 496,\n",
              " 'fletcher': 497,\n",
              " 'jerk': 498,\n",
              " 'calm': 499,\n",
              " 'shut': 500,\n",
              " 'listen': 501,\n",
              " 'name': 502,\n",
              " 'ready': 503,\n",
              " 'negative': 504,\n",
              " 'hate': 505,\n",
              " 'heading': 506,\n",
              " 'trees': 507,\n",
              " 'nsa': 508,\n",
              " 'quarter': 509,\n",
              " 'mistake': 510,\n",
              " 'twelve': 511,\n",
              " 'proof': 512,\n",
              " 'ice': 513,\n",
              " 'stanley': 514,\n",
              " 'together': 515,\n",
              " 'thing': 516,\n",
              " 'hill': 517,\n",
              " 'detective': 518,\n",
              " 'bullets': 519,\n",
              " 'chris': 520,\n",
              " 'quaid': 521,\n",
              " 'normal': 522,\n",
              " 'american': 523,\n",
              " 'brother': 524,\n",
              " 'dance': 525,\n",
              " 'cars': 526,\n",
              " 'cage': 527,\n",
              " 'heavy': 528,\n",
              " 'see': 529,\n",
              " 'whose': 530,\n",
              " 'suspect': 531,\n",
              " 'hotel': 532,\n",
              " 'breathing': 533,\n",
              " \"o'clock\": 534,\n",
              " 'kids': 535,\n",
              " 'jam': 536,\n",
              " 'working': 537,\n",
              " 'rich': 538,\n",
              " 'loan': 539,\n",
              " 'robbery': 540,\n",
              " 'swear': 541,\n",
              " 'taken': 542,\n",
              " 'bye': 543,\n",
              " 'ray': 544,\n",
              " 'dil': 545,\n",
              " 'try': 546,\n",
              " 'fact': 547,\n",
              " 'headed': 548,\n",
              " 'eleven': 549,\n",
              " 'all': 550,\n",
              " 'eddie': 551,\n",
              " 'hm': 552,\n",
              " 'buy': 553,\n",
              " 'honor': 554,\n",
              " 'herself': 555,\n",
              " 'lady': 556,\n",
              " 'city': 557,\n",
              " \"'em\": 558,\n",
              " 'mr.': 559,\n",
              " 'goodnight': 560,\n",
              " 'dreyfuss': 561,\n",
              " 'common': 562,\n",
              " 'donnie': 563,\n",
              " 'objection': 564,\n",
              " 'kind': 565,\n",
              " 'dignan': 566,\n",
              " 'work': 567,\n",
              " 'haircut': 568,\n",
              " 'thelma': 569,\n",
              " 'million': 570,\n",
              " 'home': 571,\n",
              " 'tired': 572,\n",
              " 'diego': 573,\n",
              " 'wise': 574,\n",
              " 'fight': 575,\n",
              " 'kid': 576,\n",
              " 'calvin': 577,\n",
              " 'slowly': 578,\n",
              " 'kisses': 579,\n",
              " 'day': 580,\n",
              " 'ride': 581,\n",
              " 'crazy': 582,\n",
              " 'grateful': 583,\n",
              " 'california': 584,\n",
              " 'sucks': 585,\n",
              " 'sunday': 586,\n",
              " 'teddy': 587,\n",
              " 'head': 588,\n",
              " 'seven': 589,\n",
              " 'for': 590,\n",
              " 'alonzo': 591,\n",
              " 'private': 592,\n",
              " 'shhh': 593,\n",
              " 'works': 594,\n",
              " 'nice': 595,\n",
              " 'freezing': 596,\n",
              " 'randy': 597,\n",
              " 'aw': 598,\n",
              " 'soap': 599,\n",
              " 'my': 600,\n",
              " 'actress': 601,\n",
              " 'knows': 602,\n",
              " 'clark': 603,\n",
              " 'younger': 604,\n",
              " 'sailing': 605,\n",
              " 'popcorn': 606,\n",
              " 'difference': 607,\n",
              " 'lily': 608,\n",
              " 'daughter': 609,\n",
              " 'mark': 610,\n",
              " 'desk': 611,\n",
              " 'rocky': 612,\n",
              " 'week': 613,\n",
              " 'macready': 614,\n",
              " 'hurts': 615,\n",
              " 'lock': 616,\n",
              " 'fourteen': 617,\n",
              " 'madison': 618,\n",
              " 'machine': 619,\n",
              " 'size': 620,\n",
              " 'loves': 621,\n",
              " 'best': 622,\n",
              " 'fear': 623,\n",
              " 'fresh': 624,\n",
              " 'sir': 625,\n",
              " 'how': 626,\n",
              " 'c': 627,\n",
              " 'forty': 628,\n",
              " 'side': 629,\n",
              " 'defensive': 630,\n",
              " 'donna': 631,\n",
              " 'beaumont': 632,\n",
              " 'bobby': 633,\n",
              " 'bathroom': 634,\n",
              " 'buff': 635,\n",
              " 'thief': 636,\n",
              " 'doors': 637,\n",
              " 'gray': 638,\n",
              " 'him': 639,\n",
              " 'drop': 640,\n",
              " 'scully': 641,\n",
              " 'mulder': 642,\n",
              " 'pocket': 643,\n",
              " 'madame': 644,\n",
              " 'accept': 645,\n",
              " 'ballet': 646,\n",
              " 'sky': 647,\n",
              " 'waitress': 648,\n",
              " ',': 649,\n",
              " 'act': 650,\n",
              " 'needed': 651,\n",
              " 'cup': 652,\n",
              " 'if': 653,\n",
              " 'dogs': 654,\n",
              " 'roger': 655,\n",
              " 'sent': 656,\n",
              " 'dirty': 657,\n",
              " 'whoo': 658,\n",
              " 'ate': 659,\n",
              " 'karen': 660,\n",
              " 'nickname': 661,\n",
              " 'georgia': 662,\n",
              " 'mission': 663,\n",
              " 'mama': 664,\n",
              " 'roy': 665,\n",
              " 'richard': 666,\n",
              " 'turning': 667,\n",
              " 'ever': 668,\n",
              " 'store': 669,\n",
              " 'battle': 670,\n",
              " 'blood': 671,\n",
              " 'anna': 672,\n",
              " 'buzz': 673,\n",
              " 'locked': 674,\n",
              " 'fish': 675,\n",
              " 'absolutely': 676,\n",
              " 'ext': 677,\n",
              " 'keys': 678,\n",
              " 'spare': 679,\n",
              " 'mary': 680,\n",
              " 'ladies': 681,\n",
              " 'bloody': 682,\n",
              " 'boys': 683,\n",
              " 'was': 684,\n",
              " 'angry': 685,\n",
              " 'thought': 686,\n",
              " 'pleasure': 687,\n",
              " 'looked': 688,\n",
              " 'meters': 689,\n",
              " 'nancy': 690,\n",
              " 'station': 691,\n",
              " 'insurance': 692,\n",
              " 'country': 693,\n",
              " 'war': 694,\n",
              " 'other': 695,\n",
              " 'janet': 696,\n",
              " 'clear': 697,\n",
              " 'fletch': 698,\n",
              " 'dude': 699,\n",
              " 'daddy': 700,\n",
              " 'b': 701,\n",
              " 'knew': 702,\n",
              " 'loud': 703,\n",
              " 'strong': 704,\n",
              " 'rats': 705,\n",
              " 'stupid': 706,\n",
              " 'makes': 707,\n",
              " 'grady': 708,\n",
              " 'yah': 709,\n",
              " 'very': 710,\n",
              " 'piece': 711,\n",
              " 'guests': 712,\n",
              " 'ship': 713,\n",
              " 'presents': 714,\n",
              " 's': 715,\n",
              " 'mornin': 716,\n",
              " 'their': 717,\n",
              " 'scare': 718,\n",
              " 'master': 719,\n",
              " 'wow': 720,\n",
              " 'bullet': 721,\n",
              " 'bank': 722,\n",
              " 'eyes': 723,\n",
              " 'touch': 724,\n",
              " 'hit': 725,\n",
              " 'dangerous': 726,\n",
              " 'yours': 727,\n",
              " 'hunting': 728,\n",
              " 'tommy': 729,\n",
              " 'spot': 730,\n",
              " 'later': 731,\n",
              " 'agent': 732,\n",
              " 'may': 733,\n",
              " 'says': 734,\n",
              " 'robbed': 735,\n",
              " 'jabez': 736,\n",
              " 'tonight': 737,\n",
              " 'margie': 738,\n",
              " 'spit': 739,\n",
              " 'gordon': 740,\n",
              " 'girlfriend': 741,\n",
              " 'checking': 742,\n",
              " 'sign': 743,\n",
              " 'bud': 744,\n",
              " 'jewish': 745,\n",
              " 'loser': 746,\n",
              " 'going': 747,\n",
              " 'questions': 748,\n",
              " 'broken': 749,\n",
              " 'inside': 750,\n",
              " 'grand': 751,\n",
              " 'eric': 752,\n",
              " 'right': 753,\n",
              " 'climb': 754,\n",
              " 'played': 755,\n",
              " 'lots': 756,\n",
              " 'pen': 757,\n",
              " 'most': 758,\n",
              " 'will': 759,\n",
              " 'virginia': 760,\n",
              " 'live': 761,\n",
              " 'bag': 762,\n",
              " 'queen': 763,\n",
              " 'phoebe': 764,\n",
              " 'north': 765,\n",
              " 'shame': 766,\n",
              " 'time': 767,\n",
              " 'jamie': 768,\n",
              " 'pirate': 769,\n",
              " 'jealous': 770,\n",
              " 'hat': 771,\n",
              " 'ohh': 772,\n",
              " 'diary': 773,\n",
              " 'such': 774,\n",
              " 'nervous': 775,\n",
              " 'having': 776,\n",
              " 'those': 777,\n",
              " 'cooking': 778,\n",
              " 'want': 779,\n",
              " 'year': 780,\n",
              " 'caitlin': 781,\n",
              " 'slow': 782,\n",
              " 'kay': 783,\n",
              " 'she': 784,\n",
              " 'seriously': 785,\n",
              " 'lowell': 786,\n",
              " 'christian': 787,\n",
              " 'air': 788,\n",
              " 'magic': 789,\n",
              " 'moreover': 790,\n",
              " 'eh': 791,\n",
              " 'york': 792,\n",
              " 'said': 793,\n",
              " 'push': 794,\n",
              " 'trap': 795,\n",
              " 'joking': 796,\n",
              " 'understood': 797,\n",
              " 'lisette': 798,\n",
              " 'high': 799,\n",
              " 'only': 800,\n",
              " 'order': 801,\n",
              " 'moron': 802,\n",
              " 'mess': 803,\n",
              " 'susan': 804,\n",
              " 'bet': 805,\n",
              " 'bully': 806,\n",
              " 'something': 807,\n",
              " 'twombley': 808,\n",
              " 'times': 809,\n",
              " 'art': 810,\n",
              " 'wonder': 811,\n",
              " 'relax': 812,\n",
              " 'cops': 813,\n",
              " 'jill': 814,\n",
              " 'still': 815,\n",
              " 'mars': 816,\n",
              " 'marcus': 817,\n",
              " 'and': 818,\n",
              " 'irena': 819,\n",
              " 'decide': 820,\n",
              " 'shelly': 821,\n",
              " 'god': 822,\n",
              " 'around': 823,\n",
              " 'grace': 824,\n",
              " 'young': 825,\n",
              " 'but': 826,\n",
              " 'comrade': 827,\n",
              " 'even': 828,\n",
              " 'o.k': 829,\n",
              " 'dammit': 830,\n",
              " 'hawk': 831,\n",
              " 'quick': 832,\n",
              " 'shall': 833,\n",
              " 'hicks': 834,\n",
              " 'bitch': 835,\n",
              " 'paper': 836,\n",
              " 'von': 837,\n",
              " 'beast': 838,\n",
              " 'sixty': 839,\n",
              " 'no': 840,\n",
              " 'molested': 841,\n",
              " 'huntin': 842,\n",
              " 'laugh': 843,\n",
              " 'rub': 844,\n",
              " 'over': 845,\n",
              " 'buffy': 846,\n",
              " 'artie': 847,\n",
              " 'poor': 848,\n",
              " 'lemon': 849,\n",
              " 'worked': 850,\n",
              " 'puff': 851,\n",
              " 'zero': 852,\n",
              " 'seemed': 853,\n",
              " 'stand': 854,\n",
              " 'clean': 855,\n",
              " 'tree': 856,\n",
              " 'vegas': 857,\n",
              " 'majesty': 858,\n",
              " 'heads': 859,\n",
              " 'date': 860,\n",
              " 'died': 861,\n",
              " 'italian': 862,\n",
              " 'love': 863,\n",
              " 'doubt': 864,\n",
              " 'doin': 865,\n",
              " 'ho': 866,\n",
              " 'america': 867,\n",
              " 'scotty': 868,\n",
              " 'female': 869,\n",
              " 'charged': 870,\n",
              " 'why': 871,\n",
              " 'wife': 872,\n",
              " 'jacket': 873,\n",
              " 'cousin': 874,\n",
              " 'team': 875,\n",
              " 'animal': 876,\n",
              " 'ellie': 877,\n",
              " 'jackie': 878,\n",
              " 'claudia': 879,\n",
              " 'plate': 880,\n",
              " 'birds': 881,\n",
              " 'diane': 882,\n",
              " 'ok': 883,\n",
              " 'cynthia': 884,\n",
              " 'hands': 885,\n",
              " 'nose': 886,\n",
              " 'arrest': 887,\n",
              " 'darling': 888,\n",
              " 'jim': 889,\n",
              " 'suck': 890,\n",
              " 'lord': 891,\n",
              " 'bourbon': 892,\n",
              " 'against': 893,\n",
              " 'expensive': 894,\n",
              " '<': 895,\n",
              " 'by': 896,\n",
              " \"'yes\": 897,\n",
              " 'hungry': 898,\n",
              " 'hans': 899,\n",
              " 'f': 900,\n",
              " 'illegal': 901,\n",
              " 'small': 902,\n",
              " 'heck': 903,\n",
              " 'trying': 904,\n",
              " 'metal': 905,\n",
              " 'your': 906,\n",
              " 'am': 907,\n",
              " 'rust': 908,\n",
              " 'bull': 909,\n",
              " 'catch': 910,\n",
              " 'stomach': 911,\n",
              " 'sell': 912,\n",
              " 'smart': 913,\n",
              " 'telephone': 914,\n",
              " 'hair': 915,\n",
              " 'woody': 916,\n",
              " 'yawp': 917,\n",
              " 'cant': 918,\n",
              " 'needs': 919,\n",
              " 'grail': 920,\n",
              " 'shape': 921,\n",
              " 'doctor': 922,\n",
              " 'thousand': 923,\n",
              " 'murder': 924,\n",
              " 'yep': 925,\n",
              " 'moon': 926,\n",
              " 'pearl': 927,\n",
              " 'four': 928,\n",
              " 'sounds': 929,\n",
              " 'take': 930,\n",
              " 'ai': 931,\n",
              " 'hack': 932,\n",
              " 'novel': 933,\n",
              " 'start': 934,\n",
              " 'beg': 935,\n",
              " 'missed': 936,\n",
              " 'o': 937,\n",
              " 'candy': 938,\n",
              " 'sad': 939,\n",
              " 'bleed': 940,\n",
              " 'often': 941,\n",
              " 'kiddin': 942,\n",
              " 'wish': 943,\n",
              " 'movie': 944,\n",
              " 'jody': 945,\n",
              " 'single': 946,\n",
              " 'big': 947,\n",
              " 'while': 948,\n",
              " 'twice': 949,\n",
              " 'shitty': 950,\n",
              " 'join': 951,\n",
              " 'light': 952,\n",
              " 'cecile': 953,\n",
              " 'alexander': 954,\n",
              " 'nigger': 955,\n",
              " 'boat': 956,\n",
              " 'scotch': 957,\n",
              " 'moving': 958,\n",
              " 'first': 959,\n",
              " 'madam': 960,\n",
              " 'curious': 961,\n",
              " 'figure': 962,\n",
              " 'hunt': 963,\n",
              " 'admire': 964,\n",
              " 'ted': 965,\n",
              " 'pal': 966,\n",
              " 'interesting': 967,\n",
              " 'dead': 968,\n",
              " 'named': 969,\n",
              " 'helen': 970,\n",
              " 'an': 971,\n",
              " 'party': 972,\n",
              " 'fuckin': 973,\n",
              " 'plenty': 974,\n",
              " 'miracle': 975,\n",
              " 'expecting': 976,\n",
              " 'third': 977,\n",
              " 'do': 978,\n",
              " 'kramer': 979,\n",
              " 'closing': 980,\n",
              " 'both': 981,\n",
              " 'summer': 982,\n",
              " 'proceed': 983,\n",
              " 'thirty': 984,\n",
              " 'warren': 985,\n",
              " 'idea': 986,\n",
              " 'busy': 987,\n",
              " 'minute': 988,\n",
              " 'james': 989,\n",
              " 'grandfather': 990,\n",
              " 'die': 991,\n",
              " 'advice': 992,\n",
              " 'loretta': 993,\n",
              " 'lampert': 994,\n",
              " 'forgive': 995,\n",
              " 'color': 996,\n",
              " 'breaker': 997,\n",
              " 'priest': 998,\n",
              " 'pool': 999,\n",
              " 'star': 1000,\n",
              " ...}"
            ]
          },
          "metadata": {
            "tags": []
          },
          "execution_count": 15
        }
      ]
    },
    {
      "cell_type": "code",
      "metadata": {
        "id": "HykmfqVjz-tt"
      },
      "source": [
        "questions = ['SOS ' + ques + ' EOS' for ques in questions]"
      ],
      "execution_count": 16,
      "outputs": []
    },
    {
      "cell_type": "code",
      "metadata": {
        "colab": {
          "base_uri": "https://localhost:8080/",
          "height": 35
        },
        "id": "VfQLo1TV1o75",
        "outputId": "6c7dfae9-9edb-48bf-ab31-094d88a5eb4f"
      },
      "source": [
        "questions[0]"
      ],
      "execution_count": 17,
      "outputs": [
        {
          "output_type": "execute_result",
          "data": {
            "application/vnd.google.colaboratory.intrinsic+json": {
              "type": "string"
            },
            "text/plain": [
              "'SOS there. EOS'"
            ]
          },
          "metadata": {
            "tags": []
          },
          "execution_count": 17
        }
      ]
    },
    {
      "cell_type": "code",
      "metadata": {
        "id": "o6-AFyAKz-s_"
      },
      "source": [
        "answers = ['SOS ' + ans + ' EOS' for ans in answers]"
      ],
      "execution_count": 18,
      "outputs": []
    },
    {
      "cell_type": "code",
      "metadata": {
        "colab": {
          "base_uri": "https://localhost:8080/",
          "height": 35
        },
        "id": "RkyYzGfz1s51",
        "outputId": "dac2f0b4-fbba-4bb5-f24f-250860bc6e4a"
      },
      "source": [
        "answers[0]"
      ],
      "execution_count": 19,
      "outputs": [
        {
          "output_type": "execute_result",
          "data": {
            "application/vnd.google.colaboratory.intrinsic+json": {
              "type": "string"
            },
            "text/plain": [
              "'SOS where? EOS'"
            ]
          },
          "metadata": {
            "tags": []
          },
          "execution_count": 19
        }
      ]
    },
    {
      "cell_type": "code",
      "metadata": {
        "id": "7iiRjeDi3RiQ"
      },
      "source": [
        "def vectorize(data, word_index=tokenizer.word_index, maxlen=maxlen):\n",
        "  X = []\n",
        "  for i in range(len(data)):\n",
        "    x = []\n",
        "    for word in nltk.word_tokenize(data[i]):\n",
        "      if word in word_index:\n",
        "        x.append(word_index[word])\n",
        "      else:\n",
        "        x.append(word_index['OUT'])\n",
        "    X.append(x)\n",
        "      \n",
        "  print(X[0])\n",
        "  return pad_sequences(X, maxlen=maxlen+2)"
      ],
      "execution_count": 20,
      "outputs": []
    },
    {
      "cell_type": "code",
      "metadata": {
        "colab": {
          "base_uri": "https://localhost:8080/"
        },
        "id": "dgFOvXFm40Bg",
        "outputId": "acf745f9-b7bf-487b-f9a5-06d722fc2b6a"
      },
      "source": [
        "input_questions = vectorize(questions)\n",
        "input_answers = vectorize(answers)"
      ],
      "execution_count": 21,
      "outputs": [
        {
          "output_type": "stream",
          "text": [
            "[2331, 1125, 2279, 2332]\n",
            "[2331, 1577, 1062, 2332]\n"
          ],
          "name": "stdout"
        }
      ]
    },
    {
      "cell_type": "code",
      "metadata": {
        "colab": {
          "base_uri": "https://localhost:8080/"
        },
        "id": "OQdS4OaE_Xje",
        "outputId": "4c6776df-0324-4763-dd30-453d71e390b2"
      },
      "source": [
        "input_questions[0]"
      ],
      "execution_count": 22,
      "outputs": [
        {
          "output_type": "execute_result",
          "data": {
            "text/plain": [
              "array([   0,    0,    0,    0,    0,    0,    0,    0,    0,    0,    0,\n",
              "          0,    0,    0,    0,    0,    0,    0,    0,    0,    0,    0,\n",
              "          0, 2331, 1125, 2279, 2332], dtype=int32)"
            ]
          },
          "metadata": {
            "tags": []
          },
          "execution_count": 22
        }
      ]
    },
    {
      "cell_type": "code",
      "metadata": {
        "colab": {
          "base_uri": "https://localhost:8080/"
        },
        "id": "OOZPjfln_Xit",
        "outputId": "6370a38b-85b1-464d-e547-166967d2c3da"
      },
      "source": [
        "input_answers[0]"
      ],
      "execution_count": 23,
      "outputs": [
        {
          "output_type": "execute_result",
          "data": {
            "text/plain": [
              "array([   0,    0,    0,    0,    0,    0,    0,    0,    0,    0,    0,\n",
              "          0,    0,    0,    0,    0,    0,    0,    0,    0,    0,    0,\n",
              "          0, 2331, 1577, 1062, 2332], dtype=int32)"
            ]
          },
          "metadata": {
            "tags": []
          },
          "execution_count": 23
        }
      ]
    },
    {
      "cell_type": "code",
      "metadata": {
        "colab": {
          "base_uri": "https://localhost:8080/"
        },
        "id": "VqqOkZcizW1_",
        "outputId": "bf84c510-b0c7-40ac-e42c-d9661b6bffa3"
      },
      "source": [
        "decoder_answers = [ ans[4:] for ans in answers]\n",
        "decoder_input_answers = vectorize(decoder_answers)"
      ],
      "execution_count": 24,
      "outputs": [
        {
          "output_type": "stream",
          "text": [
            "[1577, 1062, 2332]\n"
          ],
          "name": "stdout"
        }
      ]
    },
    {
      "cell_type": "code",
      "metadata": {
        "id": "qUn0g3UBlqZZ"
      },
      "source": [
        "from tensorflow.keras.utils import to_categorical\n",
        "decoder_final_output = to_categorical(decoder_input_answers, vocab_len)"
      ],
      "execution_count": 25,
      "outputs": []
    },
    {
      "cell_type": "markdown",
      "metadata": {
        "id": "J7Hf-MCDCSoF"
      },
      "source": [
        "# Creating a Seq2Seq Model"
      ]
    },
    {
      "cell_type": "code",
      "metadata": {
        "id": "3T6pgZpsAAF5"
      },
      "source": [
        "from keras.models import Model, Sequential\n",
        "from keras.layers.embeddings import Embedding\n",
        "from keras.layers import Dense, Input, LSTM, Activation, Dropout\n",
        "from keras.utils import plot_model"
      ],
      "execution_count": 26,
      "outputs": []
    },
    {
      "cell_type": "markdown",
      "metadata": {
        "id": "E4N7cCnzFJ2f"
      },
      "source": [
        "## Training"
      ]
    },
    {
      "cell_type": "markdown",
      "metadata": {
        "id": "Zw29oRIvDiCm"
      },
      "source": [
        "### Encoder"
      ]
    },
    {
      "cell_type": "code",
      "metadata": {
        "id": "ND6zg58fDR2o"
      },
      "source": [
        "enc_input_sequence = Input(shape=(maxlen+2, ))\n",
        "\n",
        "input_encoder = Sequential()\n",
        "input_encoder.add(Embedding(vocab_len, output_dim=128, input_length=maxlen+2, trainable=True))\n",
        "input_encoder.add(Dropout(0.1))\n",
        "enc_out, h, c = LSTM(128, return_sequences=True, return_state=True, dropout=0.1, recurrent_dropout=0.1)(input_encoder(enc_input_sequence))"
      ],
      "execution_count": 27,
      "outputs": []
    },
    {
      "cell_type": "markdown",
      "metadata": {
        "id": "3fUwmf2EFD7T"
      },
      "source": [
        "### Decoder"
      ]
    },
    {
      "cell_type": "code",
      "metadata": {
        "id": "OgYP7KD_HBWB"
      },
      "source": [
        "dec_input_sequence = Input(shape=(maxlen+2, ))\n",
        "\n",
        "input_decoder = Sequential()\n",
        "input_decoder.add(Embedding(vocab_len, output_dim=128, input_length=maxlen+2, trainable=True))\n",
        "input_decoder.add(Dropout(0.1))\n",
        "input_decoder_emb = input_decoder(dec_input_sequence)\n",
        "dec_lstm = LSTM(128, return_sequences=True, return_state=True, dropout=0.1, recurrent_dropout=0.1)\n",
        "dec_out, _, __ = dec_lstm(input_decoder_emb, initial_state=[h, c])"
      ],
      "execution_count": 28,
      "outputs": []
    },
    {
      "cell_type": "code",
      "metadata": {
        "id": "iRr5jYvLDR10"
      },
      "source": [
        "dense = Dense(vocab_len)(dec_out)\n",
        "activation = Activation('softmax')(dense)"
      ],
      "execution_count": 29,
      "outputs": []
    },
    {
      "cell_type": "code",
      "metadata": {
        "id": "HEAAFs4RI90r"
      },
      "source": [
        "model = Model([enc_input_sequence, dec_input_sequence], activation)"
      ],
      "execution_count": 30,
      "outputs": []
    },
    {
      "cell_type": "code",
      "metadata": {
        "colab": {
          "base_uri": "https://localhost:8080/"
        },
        "id": "n30vIZzPJVSB",
        "outputId": "2d3490ee-5bfc-4c78-b7dd-c9d2d0fa240b"
      },
      "source": [
        "model.summary()"
      ],
      "execution_count": 31,
      "outputs": [
        {
          "output_type": "stream",
          "text": [
            "Model: \"functional_1\"\n",
            "__________________________________________________________________________________________________\n",
            "Layer (type)                    Output Shape         Param #     Connected to                     \n",
            "==================================================================================================\n",
            "input_1 (InputLayer)            [(None, 27)]         0                                            \n",
            "__________________________________________________________________________________________________\n",
            "input_2 (InputLayer)            [(None, 27)]         0                                            \n",
            "__________________________________________________________________________________________________\n",
            "sequential (Sequential)         (None, 27, 128)      298624      input_1[0][0]                    \n",
            "__________________________________________________________________________________________________\n",
            "sequential_1 (Sequential)       (None, 27, 128)      298624      input_2[0][0]                    \n",
            "__________________________________________________________________________________________________\n",
            "lstm (LSTM)                     [(None, 27, 128), (N 131584      sequential[0][0]                 \n",
            "__________________________________________________________________________________________________\n",
            "lstm_1 (LSTM)                   [(None, 27, 128), (N 131584      sequential_1[0][0]               \n",
            "                                                                 lstm[0][1]                       \n",
            "                                                                 lstm[0][2]                       \n",
            "__________________________________________________________________________________________________\n",
            "dense (Dense)                   (None, 27, 2333)     300957      lstm_1[0][0]                     \n",
            "__________________________________________________________________________________________________\n",
            "activation (Activation)         (None, 27, 2333)     0           dense[0][0]                      \n",
            "==================================================================================================\n",
            "Total params: 1,161,373\n",
            "Trainable params: 1,161,373\n",
            "Non-trainable params: 0\n",
            "__________________________________________________________________________________________________\n"
          ],
          "name": "stdout"
        }
      ]
    },
    {
      "cell_type": "code",
      "metadata": {
        "colab": {
          "base_uri": "https://localhost:8080/",
          "height": 564
        },
        "id": "oKvtFnGgJsUw",
        "outputId": "abba7bad-4830-46bd-d5ea-a55e2c2c1166"
      },
      "source": [
        "plot_model(model)"
      ],
      "execution_count": 32,
      "outputs": [
        {
          "output_type": "execute_result",
          "data": {
            "image/png": "[encoded data removed]",
            "text/plain": [
              "<IPython.core.display.Image object>"
            ]
          },
          "metadata": {
            "tags": []
          },
          "execution_count": 32
        }
      ]
    },
    {
      "cell_type": "code",
      "metadata": {
        "id": "7Ldec8pnJuLt"
      },
      "source": [
        "model.compile(optimizer='adam', loss='categorical_crossentropy', metrics=['accuracy'])"
      ],
      "execution_count": 33,
      "outputs": []
    },
    {
      "cell_type": "code",
      "metadata": {
        "colab": {
          "base_uri": "https://localhost:8080/"
        },
        "id": "BJ1FjErZRjEn",
        "outputId": "beb351e3-64d5-4fa2-c592-4c4405ec439a"
      },
      "source": [
        "model.fit([input_questions, input_answers], decoder_final_output, epochs=5)"
      ],
      "execution_count": 34,
      "outputs": [
        {
          "output_type": "stream",
          "text": [
            "Epoch 1/5\n",
            "1002/1002 [==============================] - 265s 264ms/step - loss: 0.8561 - accuracy: 0.8794\n",
            "Epoch 2/5\n",
            "1002/1002 [==============================] - 266s 266ms/step - loss: 0.2584 - accuracy: 0.9626\n",
            "Epoch 3/5\n",
            "1002/1002 [==============================] - 264s 264ms/step - loss: 0.1451 - accuracy: 0.9794\n",
            "Epoch 4/5\n",
            "1002/1002 [==============================] - 265s 264ms/step - loss: 0.0965 - accuracy: 0.9864\n",
            "Epoch 5/5\n",
            "1002/1002 [==============================] - 266s 265ms/step - loss: 0.0643 - accuracy: 0.9910\n"
          ],
          "name": "stdout"
        },
        {
          "output_type": "execute_result",
          "data": {
            "text/plain": [
              "<tensorflow.python.keras.callbacks.History at 0x7f587d7f90f0>"
            ]
          },
          "metadata": {
            "tags": []
          },
          "execution_count": 34
        }
      ]
    },
    {
      "cell_type": "code",
      "metadata": {
        "id": "XqwfJ6WNSzLE"
      },
      "source": [
        "model_save_name = 'seq2seq_model.h5'\n",
        "path = f\"/content/gdrive/My Drive/ML Notebooks/data/cornell_dialogue_dataset/{model_save_name}\" \n",
        "model.save(path)"
      ],
      "execution_count": 35,
      "outputs": []
    },
    {
      "cell_type": "code",
      "metadata": {
        "id": "UfiVzcT32dJz"
      },
      "source": [
        "model.load_weights(\"/content/gdrive/My Drive/ML Notebooks/data/cornell_dialogue_dataset/seq2seq_model.h5\")"
      ],
      "execution_count": 36,
      "outputs": []
    },
    {
      "cell_type": "code",
      "metadata": {
        "colab": {
          "base_uri": "https://localhost:8080/"
        },
        "id": "IS__QU0e20Hj",
        "outputId": "8e716a68-2013-48c7-b82d-2dfcc3339ee9"
      },
      "source": [
        "preds = model.predict([vectorize(['go way']), vectorize(['no'])])\n",
        "print(preds)\n",
        "preds.shape"
      ],
      "execution_count": 37,
      "outputs": [
        {
          "output_type": "stream",
          "text": [
            "[58, 458]\n",
            "[840]\n",
            "[[[9.99907255e-01 1.73261716e-09 1.04696065e-08 ... 1.61589341e-07\n",
            "   2.69538836e-10 6.33419646e-08]\n",
            "  [9.99919772e-01 1.63053460e-09 9.47293621e-09 ... 1.36481660e-07\n",
            "   2.36962699e-10 5.95595218e-08]\n",
            "  [9.99922633e-01 1.57450886e-09 9.21498522e-09 ... 1.32314995e-07\n",
            "   2.28848065e-10 5.83677213e-08]\n",
            "  ...\n",
            "  [9.99783456e-01 7.90875543e-09 2.81344352e-08 ... 4.87069144e-07\n",
            "   6.66336569e-11 2.40486116e-07]\n",
            "  [9.99776423e-01 8.34395220e-09 2.90548989e-08 ... 5.04578395e-07\n",
            "   6.50459478e-11 2.50079495e-07]\n",
            "  [2.06357781e-05 2.76067780e-10 3.67174636e-07 ... 1.25179096e-04\n",
            "   4.18990564e-10 9.74528369e-09]]]\n"
          ],
          "name": "stdout"
        },
        {
          "output_type": "execute_result",
          "data": {
            "text/plain": [
              "(1, 27, 2333)"
            ]
          },
          "metadata": {
            "tags": []
          },
          "execution_count": 37
        }
      ]
    },
    {
      "cell_type": "code",
      "metadata": {
        "colab": {
          "base_uri": "https://localhost:8080/"
        },
        "id": "a-rPaZT130eX",
        "outputId": "c8981848-a016-454b-e88c-fc93cefb5b7b"
      },
      "source": [
        "output = []\n",
        "for i in range(maxlen):\n",
        "  index = np.argmax(preds[0][i])\n",
        "  if index == 0:\n",
        "    output.append(\"PAD\")\n",
        "  else:\n",
        "    output.append(tokenizer.index_word[index])\n",
        "print(' '.join(output))"
      ],
      "execution_count": 38,
      "outputs": [
        {
          "output_type": "stream",
          "text": [
            "PAD PAD PAD PAD PAD PAD PAD PAD PAD PAD PAD PAD PAD PAD PAD PAD PAD PAD PAD PAD PAD PAD PAD PAD PAD\n"
          ],
          "name": "stdout"
        }
      ]
    },
    {
      "cell_type": "markdown",
      "metadata": {
        "id": "dq8o3PoN4SLp"
      },
      "source": [
        "# Inference"
      ]
    },
    {
      "cell_type": "code",
      "metadata": {
        "id": "59GiM9Qs4Ghu"
      },
      "source": [
        "enc_model = Model([enc_input_sequence], [h, c])"
      ],
      "execution_count": 39,
      "outputs": []
    },
    {
      "cell_type": "code",
      "metadata": {
        "colab": {
          "base_uri": "https://localhost:8080/"
        },
        "id": "IlQhSXmrp923",
        "outputId": "6f0767df-5174-489d-83b7-2b1256f7434e"
      },
      "source": [
        "enc_model.summary()"
      ],
      "execution_count": 56,
      "outputs": [
        {
          "output_type": "stream",
          "text": [
            "Model: \"functional_3\"\n",
            "_________________________________________________________________\n",
            "Layer (type)                 Output Shape              Param #   \n",
            "=================================================================\n",
            "input_1 (InputLayer)         [(None, 27)]              0         \n",
            "_________________________________________________________________\n",
            "sequential (Sequential)      (None, 27, 128)           298624    \n",
            "_________________________________________________________________\n",
            "lstm (LSTM)                  [(None, 27, 128), (None,  131584    \n",
            "=================================================================\n",
            "Total params: 430,208\n",
            "Trainable params: 430,208\n",
            "Non-trainable params: 0\n",
            "_________________________________________________________________\n"
          ],
          "name": "stdout"
        }
      ]
    },
    {
      "cell_type": "code",
      "metadata": {
        "colab": {
          "base_uri": "https://localhost:8080/",
          "height": 272
        },
        "id": "YYwDP9xPn8nq",
        "outputId": "a91a4629-8a83-405d-ae94-9366775be010"
      },
      "source": [
        "plot_model(enc_model)"
      ],
      "execution_count": 54,
      "outputs": [
        {
          "output_type": "execute_result",
          "data": {
            "image/png": "[encoded data removed]",
            "text/plain": [
              "<IPython.core.display.Image object>"
            ]
          },
          "metadata": {
            "tags": []
          },
          "execution_count": 54
        }
      ]
    },
    {
      "cell_type": "code",
      "metadata": {
        "id": "hCANxTTq4zOR"
      },
      "source": [
        "decoder_state_input_h = Input(shape=(128, ))\n",
        "decoder_state_input_c = Input(shape=(128, ))\n",
        "\n",
        "decoder_state_inputs = [decoder_state_input_h, decoder_state_input_c]"
      ],
      "execution_count": 40,
      "outputs": []
    },
    {
      "cell_type": "code",
      "metadata": {
        "id": "54bbSh2C5H31"
      },
      "source": [
        "decoder_outputs, state_h, state_c = dec_lstm(input_decoder_emb, initial_state=decoder_state_inputs)\n",
        "decoder_states = [state_h, state_c]"
      ],
      "execution_count": 41,
      "outputs": []
    },
    {
      "cell_type": "code",
      "metadata": {
        "id": "uBu3KsGw5guG"
      },
      "source": [
        "dec_model = Model([dec_input_sequence] + decoder_state_inputs, [decoder_outputs] + decoder_states)"
      ],
      "execution_count": 43,
      "outputs": []
    },
    {
      "cell_type": "code",
      "metadata": {
        "colab": {
          "base_uri": "https://localhost:8080/"
        },
        "id": "8jPyWVeAp6UZ",
        "outputId": "3c530186-f8ce-4504-8642-947a9717bb6f"
      },
      "source": [
        "dec_model.summary()"
      ],
      "execution_count": 55,
      "outputs": [
        {
          "output_type": "stream",
          "text": [
            "Model: \"functional_5\"\n",
            "__________________________________________________________________________________________________\n",
            "Layer (type)                    Output Shape         Param #     Connected to                     \n",
            "==================================================================================================\n",
            "input_2 (InputLayer)            [(None, 27)]         0                                            \n",
            "__________________________________________________________________________________________________\n",
            "sequential_1 (Sequential)       (None, 27, 128)      298624      input_2[0][0]                    \n",
            "__________________________________________________________________________________________________\n",
            "input_3 (InputLayer)            [(None, 128)]        0                                            \n",
            "__________________________________________________________________________________________________\n",
            "input_4 (InputLayer)            [(None, 128)]        0                                            \n",
            "__________________________________________________________________________________________________\n",
            "lstm_1 (LSTM)                   [(None, 27, 128), (N 131584      sequential_1[0][0]               \n",
            "                                                                 input_3[0][0]                    \n",
            "                                                                 input_4[0][0]                    \n",
            "==================================================================================================\n",
            "Total params: 430,208\n",
            "Trainable params: 430,208\n",
            "Non-trainable params: 0\n",
            "__________________________________________________________________________________________________\n"
          ],
          "name": "stdout"
        }
      ]
    },
    {
      "cell_type": "code",
      "metadata": {
        "colab": {
          "base_uri": "https://localhost:8080/",
          "height": 272
        },
        "id": "dNnh9ZhHn3k7",
        "outputId": "4d7f6435-0131-43a0-9892-cf38ecdbdae5"
      },
      "source": [
        "plot_model(dec_model)"
      ],
      "execution_count": 53,
      "outputs": [
        {
          "output_type": "execute_result",
          "data": {
            "image/png": "[encoded data removed]",
            "text/plain": [
              "<IPython.core.display.Image object>"
            ]
          },
          "metadata": {
            "tags": []
          },
          "execution_count": 53
        }
      ]
    },
    {
      "cell_type": "code",
      "metadata": {
        "id": "KqqrA9b86HTa",
        "colab": {
          "base_uri": "https://localhost:8080/"
        },
        "outputId": "fe56e54e-6155-4e68-bd97-b2d79a27a17b"
      },
      "source": [
        "print(\"#############################################\")\n",
        "print(\"#              Starting chatbot             #\")\n",
        "print(\"#############################################\")"
      ],
      "execution_count": 44,
      "outputs": [
        {
          "output_type": "stream",
          "text": [
            "#############################################\n",
            "#              Starting chatbot             #\n",
            "#############################################\n"
          ],
          "name": "stdout"
        }
      ]
    },
    {
      "cell_type": "code",
      "metadata": {
        "id": "jXJR4C0V6U3X",
        "colab": {
          "base_uri": "https://localhost:8080/"
        },
        "outputId": "ed216cd2-1ceb-4924-8385-6af25533dc0a"
      },
      "source": [
        "inp = \"\"\n",
        "\n",
        "while True:\n",
        "  inp = input(\"You : \")\n",
        "  \n",
        "  if inp in ['q', 'exit', 'quit']:\n",
        "    break\n",
        "  \n",
        "  inp = clean_text(inp)\n",
        "\n",
        "  txt = vectorize([inp])\n",
        "  # print(txt)\n",
        "  stat = enc_model.predict(txt)\n",
        "\n",
        "  empty_target_seq = np.zeros((1, 1))\n",
        "  empty_target_seq[0, 0] = tokenizer.word_index['SOS']\n",
        "  # print(empty_target_seq.shape)\n",
        "  # print(np.array(stat).shape)\n",
        "  stop_condition = False\n",
        "  decoded_reply = \"\"\n",
        "\n",
        "  while not stop_condition:\n",
        "    dec_outputs, h, c = dec_model.predict([empty_target_seq] + stat)\n",
        "    decoder_concat_input = Activation('softmax')(Dense(vocab_len)(dec_outputs))\n",
        "\n",
        "    index = np.argmax(decoder_concat_input[0, -1, :])\n",
        "    word = tokenizer.index_word[index]\n",
        "\n",
        "    if word != 'EOS':\n",
        "      decoded_reply += \" \" + word\n",
        "    if word == 'EOS' or len(decoded_reply.split()) > maxlen + 2:\n",
        "      stop_condition = True\n",
        "\n",
        "    empty_target_seq = np.zeros((1, 1))\n",
        "    empty_target_seq[0, 0] = index\n",
        "\n",
        "    stat = [h, c]\n",
        "  print(\"Chatbot : \", decoded_reply)\n",
        "  print(\"-------------------------------------------\")"
      ],
      "execution_count": 68,
      "outputs": [
        {
          "output_type": "stream",
          "text": [
            "You : hii\n",
            "[2330]\n",
            "Chatbot :   would bit getting loser sid sleepy britain page bleeding cigarette record monster apologize gon della headache garage cash lena anthony y'know dream did michael think people bon originals\n",
            "-------------------------------------------\n",
            "You : great\n",
            "[171]\n",
            "Chatbot :   active hmmm gruber excellent taking care tracy margaret yourself cost ? maybe cross along bat norm ago 's h ms. takin pain bravo america originals wake try doctor\n",
            "-------------------------------------------\n",
            "You : q\n"
          ],
          "name": "stdout"
        }
      ]
    }
  ]
}